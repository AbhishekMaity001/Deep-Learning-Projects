{
 "cells": [
  {
   "cell_type": "markdown",
   "metadata": {},
   "source": [
    "# Reading text from images using pytesseract "
   ]
  },
  {
   "cell_type": "code",
   "execution_count": 2,
   "metadata": {},
   "outputs": [],
   "source": [
    "import pytesseract\n",
    "pytesseract.pytesseract.tesseract_cmd = r'C:\\Program Files\\Tesseract-OCR\\tesseract.exe' # set this installation path of pytesseract\n",
    "import cv2"
   ]
  },
  {
   "cell_type": "code",
   "execution_count": 3,
   "metadata": {},
   "outputs": [],
   "source": [
    "img = cv2.imread('6.jpg')\n",
    "cv2.namedWindow('output',cv2.WINDOW_NORMAL)\n",
    "cv2.resizeWindow(\"output\", 1000, 1000) \n",
    "cv2.imshow('output',img)\n",
    "cv2.waitKey(0)\n",
    "cv2.destroyAllWindows()"
   ]
  },
  {
   "cell_type": "code",
   "execution_count": 42,
   "metadata": {
    "scrolled": true
   },
   "outputs": [
    {
     "name": "stdout",
     "output_type": "stream",
     "text": [
      "  \n",
      " \n",
      "\n",
      "   \n",
      "\n",
      "raleYalalt(olatal ll ofatal 4\n",
      "«the name you can BANK upon |\n",
      "\n",
      " \n",
      "\n",
      "tista aiscia ae Ney puny\n",
      "WO Br weber |\n",
      "\n",
      " \n",
      "\n",
      " \n",
      " \n",
      "\n",
      "JAMSHEDPUR . KHARANGAJHAR\n",
      "\n",
      "PACH OUNT PARACUL ARS:\n",
      "\n",
      " \n",
      " \n",
      "\n",
      "ANSH\n",
      "\n",
      "     \n",
      " \n",
      "  \n",
      "\n",
      " \n",
      "  \n",
      " \n",
      "\n",
      "MICR Code: 831024009 .\n",
      "IFSC Code: PUNBOS63600_\n",
      "\n",
      " \n",
      " \n",
      "\n",
      ": Toll Free 18001802222/ 18001032222, Tol led-01202490000+\n",
      "inal Nodal Officer: Phn-01123716185 Fax-01123323707%\n",
      "\n",
      "   \n",
      "\n",
      "Mode of Operation : SELF\n",
      "Customer No. : J¥YFO04995\n",
      "\n",
      "Account No. =: 6636001500003404 INR\n",
      "\n",
      "MR ABHISHEK NAITY\n",
      "\n",
      "Account Open Date : 03-08-2015\n",
      "\n",
      "H NO. 1SOUSHA BHAWAN KARANGAIHAR\n",
      "\n",
      "JYOTI NAGAR\n",
      "\n",
      "JAMSHEDPUR { JHARKHAND )\n",
      "\n",
      "JHARKHAND INDIA Pin: 831004\n",
      "Nomination Registered at S].No. - 2991851372\n",
      "Date of Issue : 03-08-2015\n",
      "\n",
      "       \n",
      " \n",
      "      \n",
      "   \n",
      "         \n",
      "     \n",
      "\n",
      "oiferer’} siferesrtt /aeteres / Authorised Official/Manager\n",
      "meyer art Yford faaxferat ue feet aftrert err arate\n",
      "OT / ATER RY BY eRe EY 8 | HTM BYR Ter BPE\n",
      "UnAgh / fart ox excfereaa (Aqsre) ufaseat eer a wy |\n",
      "Computer generated entries shown in the statement of\n",
      "account do/not require any authentication/initial from bank\n",
      "Official. Please do not. accept any manual entry in your\n",
      "\n",
      "_ computer generated Pass Book/Statement of account.\n",
      "\n",
      "   \n",
      "  \n",
      " \n",
      "\f",
      "\n"
     ]
    }
   ],
   "source": [
    "text = pytesseract.image_to_string(img)\n",
    "print(text)"
   ]
  },
  {
   "cell_type": "code",
   "execution_count": null,
   "metadata": {},
   "outputs": [],
   "source": []
  }
 ],
 "metadata": {
  "kernelspec": {
   "display_name": "Python 3",
   "language": "python",
   "name": "python3"
  },
  "language_info": {
   "codemirror_mode": {
    "name": "ipython",
    "version": 3
   },
   "file_extension": ".py",
   "mimetype": "text/x-python",
   "name": "python",
   "nbconvert_exporter": "python",
   "pygments_lexer": "ipython3",
   "version": "3.6.9"
  }
 },
 "nbformat": 4,
 "nbformat_minor": 4
}

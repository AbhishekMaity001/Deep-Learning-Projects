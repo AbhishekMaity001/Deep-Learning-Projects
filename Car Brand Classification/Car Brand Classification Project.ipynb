{
 "cells": [
  {
   "cell_type": "markdown",
   "metadata": {},
   "source": [
    "# Car Brand Classification using TransferLearning (VGG16)"
   ]
  },
  {
   "cell_type": "markdown",
   "metadata": {},
   "source": [
    "NOTE : i tried with resnet50 at first but ResNet50 was giving very poor accuracy so i tried with VGG16"
   ]
  },
  {
   "cell_type": "code",
   "execution_count": 1,
   "metadata": {},
   "outputs": [],
   "source": [
    "# This code just limits the gpu usage till 60% ...\n",
    "from tensorflow.compat.v1 import ConfigProto\n",
    "from tensorflow.compat.v1 import InteractiveSession\n",
    "config = ConfigProto()\n",
    "config.gpu_options.per_process_gpu_memory_fraction = 0.6\n",
    "config.gpu_options.allow_growth = True\n",
    "session = InteractiveSession(config=config)"
   ]
  },
  {
   "cell_type": "code",
   "execution_count": 2,
   "metadata": {},
   "outputs": [],
   "source": [
    "import numpy as np\n",
    "import matplotlib.pyplot as plt\n",
    "%matplotlib inline"
   ]
  },
  {
   "cell_type": "code",
   "execution_count": 3,
   "metadata": {},
   "outputs": [],
   "source": [
    "import tensorflow as tf\n",
    "from tensorflow.keras.applications import ResNet50\n",
    "from tensorflow.keras.applications import VGG16\n",
    "from tensorflow.keras import Model\n",
    "from tensorflow.keras import layers\n",
    "from tensorflow.keras.preprocessing import image\n",
    "from tensorflow.keras.preprocessing.image import ImageDataGenerator\n",
    "from glob import glob"
   ]
  },
  {
   "cell_type": "code",
   "execution_count": 4,
   "metadata": {},
   "outputs": [
    {
     "data": {
      "text/plain": [
       "3"
      ]
     },
     "execution_count": 4,
     "metadata": {},
     "output_type": "execute_result"
    }
   ],
   "source": [
    "train_path = 'Datasets/Train'\n",
    "test_path = 'Datasets/Test'\n",
    "len(glob('Datasets/Train/*')) # Getting the number of the output classes"
   ]
  },
  {
   "cell_type": "code",
   "execution_count": 5,
   "metadata": {},
   "outputs": [
    {
     "name": "stdout",
     "output_type": "stream",
     "text": [
      "Downloading data from https://github.com/fchollet/deep-learning-models/releases/download/v0.1/vgg16_weights_tf_dim_ordering_tf_kernels_notop.h5\n",
      "58892288/58889256 [==============================] - 24s 0us/step\n"
     ]
    }
   ],
   "source": [
    "resnet = VGG16(input_shape=(224,224,3),\n",
    "                 weights='imagenet',\n",
    "                 include_top=False) # 3 for the RGB channel"
   ]
  },
  {
   "cell_type": "markdown",
   "metadata": {},
   "source": [
    "resnet = ResNet50(input_shape=(224,224,3),\n",
    "                 weights='imagenet',\n",
    "                 include_top=False) # 3 for the RGB channel"
   ]
  },
  {
   "cell_type": "code",
   "execution_count": 6,
   "metadata": {},
   "outputs": [],
   "source": [
    "for layer in resnet.layers:\n",
    "    layer.trainable = False"
   ]
  },
  {
   "cell_type": "code",
   "execution_count": 7,
   "metadata": {
    "scrolled": true
   },
   "outputs": [
    {
     "data": {
      "text/plain": [
       "['Datasets/Train\\\\audi',\n",
       " 'Datasets/Train\\\\lamborghini',\n",
       " 'Datasets/Train\\\\mercedes']"
      ]
     },
     "execution_count": 7,
     "metadata": {},
     "output_type": "execute_result"
    }
   ],
   "source": [
    "folders = glob(train_path+'/*')\n",
    "folders"
   ]
  },
  {
   "cell_type": "code",
   "execution_count": 8,
   "metadata": {},
   "outputs": [],
   "source": [
    "x = layers.Flatten()(resnet.output)\n",
    "x = layers.Dense(3,activation='softmax')(x) # final output layer"
   ]
  },
  {
   "cell_type": "code",
   "execution_count": 9,
   "metadata": {},
   "outputs": [
    {
     "name": "stdout",
     "output_type": "stream",
     "text": [
      "Model: \"model\"\n",
      "_________________________________________________________________\n",
      "Layer (type)                 Output Shape              Param #   \n",
      "=================================================================\n",
      "input_1 (InputLayer)         [(None, 224, 224, 3)]     0         \n",
      "_________________________________________________________________\n",
      "block1_conv1 (Conv2D)        (None, 224, 224, 64)      1792      \n",
      "_________________________________________________________________\n",
      "block1_conv2 (Conv2D)        (None, 224, 224, 64)      36928     \n",
      "_________________________________________________________________\n",
      "block1_pool (MaxPooling2D)   (None, 112, 112, 64)      0         \n",
      "_________________________________________________________________\n",
      "block2_conv1 (Conv2D)        (None, 112, 112, 128)     73856     \n",
      "_________________________________________________________________\n",
      "block2_conv2 (Conv2D)        (None, 112, 112, 128)     147584    \n",
      "_________________________________________________________________\n",
      "block2_pool (MaxPooling2D)   (None, 56, 56, 128)       0         \n",
      "_________________________________________________________________\n",
      "block3_conv1 (Conv2D)        (None, 56, 56, 256)       295168    \n",
      "_________________________________________________________________\n",
      "block3_conv2 (Conv2D)        (None, 56, 56, 256)       590080    \n",
      "_________________________________________________________________\n",
      "block3_conv3 (Conv2D)        (None, 56, 56, 256)       590080    \n",
      "_________________________________________________________________\n",
      "block3_pool (MaxPooling2D)   (None, 28, 28, 256)       0         \n",
      "_________________________________________________________________\n",
      "block4_conv1 (Conv2D)        (None, 28, 28, 512)       1180160   \n",
      "_________________________________________________________________\n",
      "block4_conv2 (Conv2D)        (None, 28, 28, 512)       2359808   \n",
      "_________________________________________________________________\n",
      "block4_conv3 (Conv2D)        (None, 28, 28, 512)       2359808   \n",
      "_________________________________________________________________\n",
      "block4_pool (MaxPooling2D)   (None, 14, 14, 512)       0         \n",
      "_________________________________________________________________\n",
      "block5_conv1 (Conv2D)        (None, 14, 14, 512)       2359808   \n",
      "_________________________________________________________________\n",
      "block5_conv2 (Conv2D)        (None, 14, 14, 512)       2359808   \n",
      "_________________________________________________________________\n",
      "block5_conv3 (Conv2D)        (None, 14, 14, 512)       2359808   \n",
      "_________________________________________________________________\n",
      "block5_pool (MaxPooling2D)   (None, 7, 7, 512)         0         \n",
      "_________________________________________________________________\n",
      "flatten (Flatten)            (None, 25088)             0         \n",
      "_________________________________________________________________\n",
      "dense (Dense)                (None, 3)                 75267     \n",
      "=================================================================\n",
      "Total params: 14,789,955\n",
      "Trainable params: 75,267\n",
      "Non-trainable params: 14,714,688\n",
      "_________________________________________________________________\n"
     ]
    }
   ],
   "source": [
    "# Creating the model\n",
    "model = Model(inputs = resnet.input, outputs=x)\n",
    "model.summary()"
   ]
  },
  {
   "cell_type": "code",
   "execution_count": 10,
   "metadata": {},
   "outputs": [],
   "source": [
    "model.compile(optimizer='adam',\n",
    "             loss='categorical_crossentropy',\n",
    "             metrics=['accuracy'])"
   ]
  },
  {
   "cell_type": "code",
   "execution_count": 11,
   "metadata": {},
   "outputs": [
    {
     "name": "stdout",
     "output_type": "stream",
     "text": [
      "Found 64 images belonging to 3 classes.\n",
      "Found 58 images belonging to 3 classes.\n"
     ]
    }
   ],
   "source": [
    "# Image Data Augmentation\n",
    "train_datagen = ImageDataGenerator(rescale=1./225,\n",
    "                                  shear_range=0.2,\n",
    "                                  horizontal_flip=True,\n",
    "                                  zoom_range=0.2)\n",
    "test_datagen = ImageDataGenerator(rescale=1./255)\n",
    "\n",
    "trainset = train_datagen.flow_from_directory('Datasets/train',\n",
    "                                            target_size=(224,224),\n",
    "                                            batch_size=32,\n",
    "                                            class_mode='categorical')\n",
    "testset = test_datagen.flow_from_directory('Datasets/test',\n",
    "                                          target_size=(224,224),\n",
    "                                          batch_size=32,\n",
    "                                          class_mode='categorical')"
   ]
  },
  {
   "cell_type": "code",
   "execution_count": 12,
   "metadata": {},
   "outputs": [
    {
     "data": {
      "text/plain": [
       "(2, 2)"
      ]
     },
     "execution_count": 12,
     "metadata": {},
     "output_type": "execute_result"
    }
   ],
   "source": [
    "len(trainset),len(testset)"
   ]
  },
  {
   "cell_type": "code",
   "execution_count": 13,
   "metadata": {
    "scrolled": true
   },
   "outputs": [
    {
     "name": "stdout",
     "output_type": "stream",
     "text": [
      "WARNING:tensorflow:sample_weight modes were coerced from\n",
      "  ...\n",
      "    to  \n",
      "  ['...']\n",
      "WARNING:tensorflow:sample_weight modes were coerced from\n",
      "  ...\n",
      "    to  \n",
      "  ['...']\n",
      "Train for 2 steps, validate for 2 steps\n",
      "Epoch 1/50\n",
      "2/2 [==============================] - 9s 5s/step - loss: 2.0474 - accuracy: 0.2344 - val_loss: 1.4088 - val_accuracy: 0.5172\n",
      "Epoch 2/50\n",
      "2/2 [==============================] - 1s 650ms/step - loss: 1.1919 - accuracy: 0.4531 - val_loss: 1.6306 - val_accuracy: 0.3276\n",
      "Epoch 3/50\n",
      "2/2 [==============================] - 1s 655ms/step - loss: 1.2854 - accuracy: 0.3906 - val_loss: 0.6293 - val_accuracy: 0.7241\n",
      "Epoch 4/50\n",
      "2/2 [==============================] - 1s 651ms/step - loss: 0.4566 - accuracy: 0.8125 - val_loss: 1.1484 - val_accuracy: 0.6379\n",
      "Epoch 5/50\n",
      "2/2 [==============================] - 1s 659ms/step - loss: 0.8157 - accuracy: 0.7344 - val_loss: 1.1536 - val_accuracy: 0.6552\n",
      "Epoch 6/50\n",
      "2/2 [==============================] - 1s 672ms/step - loss: 0.5383 - accuracy: 0.7188 - val_loss: 0.5792 - val_accuracy: 0.7586\n",
      "Epoch 7/50\n",
      "2/2 [==============================] - 1s 661ms/step - loss: 0.2170 - accuracy: 0.9062 - val_loss: 0.6698 - val_accuracy: 0.7414\n",
      "Epoch 8/50\n",
      "2/2 [==============================] - 1s 673ms/step - loss: 0.4867 - accuracy: 0.7500 - val_loss: 0.6652 - val_accuracy: 0.7241\n",
      "Epoch 9/50\n",
      "2/2 [==============================] - 1s 685ms/step - loss: 0.2271 - accuracy: 0.9375 - val_loss: 0.4146 - val_accuracy: 0.8621\n",
      "Epoch 10/50\n",
      "2/2 [==============================] - 1s 667ms/step - loss: 0.1025 - accuracy: 0.9844 - val_loss: 0.5790 - val_accuracy: 0.7586\n",
      "Epoch 11/50\n",
      "2/2 [==============================] - 1s 670ms/step - loss: 0.1244 - accuracy: 0.9688 - val_loss: 0.7856 - val_accuracy: 0.7241\n",
      "Epoch 12/50\n",
      "2/2 [==============================] - 1s 672ms/step - loss: 0.1600 - accuracy: 0.9531 - val_loss: 0.7929 - val_accuracy: 0.7241\n",
      "Epoch 13/50\n",
      "2/2 [==============================] - 1s 661ms/step - loss: 0.0943 - accuracy: 0.9844 - val_loss: 0.6945 - val_accuracy: 0.7586\n",
      "Epoch 14/50\n",
      "2/2 [==============================] - 1s 651ms/step - loss: 0.0494 - accuracy: 1.0000 - val_loss: 0.5875 - val_accuracy: 0.8103\n",
      "Epoch 15/50\n",
      "2/2 [==============================] - 1s 656ms/step - loss: 0.0456 - accuracy: 0.9844 - val_loss: 0.5331 - val_accuracy: 0.8103\n",
      "Epoch 16/50\n",
      "2/2 [==============================] - 1s 665ms/step - loss: 0.0587 - accuracy: 0.9844 - val_loss: 0.4933 - val_accuracy: 0.8103\n",
      "Epoch 17/50\n",
      "2/2 [==============================] - 1s 653ms/step - loss: 0.0446 - accuracy: 1.0000 - val_loss: 0.4504 - val_accuracy: 0.8448\n",
      "Epoch 18/50\n",
      "2/2 [==============================] - 1s 667ms/step - loss: 0.0416 - accuracy: 0.9844 - val_loss: 0.4126 - val_accuracy: 0.8448\n",
      "Epoch 19/50\n",
      "2/2 [==============================] - 1s 670ms/step - loss: 0.0184 - accuracy: 1.0000 - val_loss: 0.4042 - val_accuracy: 0.8448\n",
      "Epoch 20/50\n",
      "2/2 [==============================] - 1s 669ms/step - loss: 0.0347 - accuracy: 0.9844 - val_loss: 0.4138 - val_accuracy: 0.8276\n",
      "Epoch 21/50\n",
      "2/2 [==============================] - 1s 663ms/step - loss: 0.0230 - accuracy: 0.9844 - val_loss: 0.4164 - val_accuracy: 0.8276\n",
      "Epoch 22/50\n",
      "2/2 [==============================] - 1s 683ms/step - loss: 0.0191 - accuracy: 1.0000 - val_loss: 0.4119 - val_accuracy: 0.8276\n",
      "Epoch 23/50\n",
      "2/2 [==============================] - 1s 655ms/step - loss: 0.0369 - accuracy: 0.9844 - val_loss: 0.3912 - val_accuracy: 0.8448\n",
      "Epoch 24/50\n",
      "2/2 [==============================] - 1s 689ms/step - loss: 0.0135 - accuracy: 1.0000 - val_loss: 0.3763 - val_accuracy: 0.8621\n",
      "Epoch 25/50\n",
      "2/2 [==============================] - 1s 678ms/step - loss: 0.0101 - accuracy: 1.0000 - val_loss: 0.3691 - val_accuracy: 0.8793\n",
      "Epoch 26/50\n",
      "2/2 [==============================] - 1s 651ms/step - loss: 0.0112 - accuracy: 1.0000 - val_loss: 0.3678 - val_accuracy: 0.8793\n",
      "Epoch 27/50\n",
      "2/2 [==============================] - 1s 662ms/step - loss: 0.0112 - accuracy: 1.0000 - val_loss: 0.3698 - val_accuracy: 0.8621\n",
      "Epoch 28/50\n",
      "2/2 [==============================] - 1s 665ms/step - loss: 0.0151 - accuracy: 1.0000 - val_loss: 0.3726 - val_accuracy: 0.8621\n",
      "Epoch 29/50\n",
      "2/2 [==============================] - 1s 655ms/step - loss: 0.0103 - accuracy: 1.0000 - val_loss: 0.3766 - val_accuracy: 0.8793\n",
      "Epoch 30/50\n",
      "2/2 [==============================] - 1s 651ms/step - loss: 0.0098 - accuracy: 1.0000 - val_loss: 0.3827 - val_accuracy: 0.8793\n",
      "Epoch 31/50\n",
      "2/2 [==============================] - 1s 651ms/step - loss: 0.0088 - accuracy: 1.0000 - val_loss: 0.3894 - val_accuracy: 0.8621\n",
      "Epoch 32/50\n",
      "2/2 [==============================] - 1s 661ms/step - loss: 0.0098 - accuracy: 1.0000 - val_loss: 0.3963 - val_accuracy: 0.8448\n",
      "Epoch 33/50\n",
      "2/2 [==============================] - 1s 681ms/step - loss: 0.0102 - accuracy: 1.0000 - val_loss: 0.4025 - val_accuracy: 0.8621\n",
      "Epoch 34/50\n",
      "2/2 [==============================] - 1s 697ms/step - loss: 0.0097 - accuracy: 1.0000 - val_loss: 0.4088 - val_accuracy: 0.8621\n",
      "Epoch 35/50\n",
      "2/2 [==============================] - 1s 659ms/step - loss: 0.0109 - accuracy: 1.0000 - val_loss: 0.4120 - val_accuracy: 0.8621\n",
      "Epoch 36/50\n",
      "2/2 [==============================] - 1s 664ms/step - loss: 0.0097 - accuracy: 1.0000 - val_loss: 0.4067 - val_accuracy: 0.8621\n",
      "Epoch 37/50\n",
      "2/2 [==============================] - 1s 660ms/step - loss: 0.0129 - accuracy: 1.0000 - val_loss: 0.3961 - val_accuracy: 0.8621\n",
      "Epoch 38/50\n",
      "2/2 [==============================] - 1s 655ms/step - loss: 0.0088 - accuracy: 1.0000 - val_loss: 0.3876 - val_accuracy: 0.8448\n",
      "Epoch 39/50\n",
      "2/2 [==============================] - 1s 656ms/step - loss: 0.0079 - accuracy: 1.0000 - val_loss: 0.3803 - val_accuracy: 0.8793\n",
      "Epoch 40/50\n",
      "2/2 [==============================] - 1s 656ms/step - loss: 0.0088 - accuracy: 1.0000 - val_loss: 0.3754 - val_accuracy: 0.8793\n",
      "Epoch 41/50\n",
      "2/2 [==============================] - 1s 659ms/step - loss: 0.0080 - accuracy: 1.0000 - val_loss: 0.3735 - val_accuracy: 0.8793\n",
      "Epoch 42/50\n",
      "2/2 [==============================] - 1s 658ms/step - loss: 0.0061 - accuracy: 1.0000 - val_loss: 0.3733 - val_accuracy: 0.8793\n",
      "Epoch 43/50\n",
      "2/2 [==============================] - 1s 656ms/step - loss: 0.0060 - accuracy: 1.0000 - val_loss: 0.3722 - val_accuracy: 0.8793\n",
      "Epoch 44/50\n",
      "2/2 [==============================] - 1s 664ms/step - loss: 0.0111 - accuracy: 1.0000 - val_loss: 0.3753 - val_accuracy: 0.8793\n",
      "Epoch 45/50\n",
      "2/2 [==============================] - 1s 660ms/step - loss: 0.0075 - accuracy: 1.0000 - val_loss: 0.3788 - val_accuracy: 0.8793\n",
      "Epoch 46/50\n",
      "2/2 [==============================] - 1s 654ms/step - loss: 0.0060 - accuracy: 1.0000 - val_loss: 0.3832 - val_accuracy: 0.8621\n",
      "Epoch 47/50\n",
      "2/2 [==============================] - 1s 660ms/step - loss: 0.0069 - accuracy: 1.0000 - val_loss: 0.3875 - val_accuracy: 0.8793\n",
      "Epoch 48/50\n",
      "2/2 [==============================] - 1s 667ms/step - loss: 0.0059 - accuracy: 1.0000 - val_loss: 0.3908 - val_accuracy: 0.8793\n",
      "Epoch 49/50\n",
      "2/2 [==============================] - 1s 665ms/step - loss: 0.0068 - accuracy: 1.0000 - val_loss: 0.3924 - val_accuracy: 0.8793\n",
      "Epoch 50/50\n",
      "2/2 [==============================] - 1s 663ms/step - loss: 0.0056 - accuracy: 1.0000 - val_loss: 0.3919 - val_accuracy: 0.8621\n"
     ]
    }
   ],
   "source": [
    "hist = model.fit(trainset,\n",
    "          steps_per_epoch=len(trainset),\n",
    "          epochs=50,\n",
    "          validation_data=testset,\n",
    "          validation_steps=len(testset)\n",
    "         )"
   ]
  },
  {
   "cell_type": "code",
   "execution_count": 14,
   "metadata": {},
   "outputs": [
    {
     "data": {
      "text/plain": [
       "<matplotlib.legend.Legend at 0x20622289bc8>"
      ]
     },
     "execution_count": 14,
     "metadata": {},
     "output_type": "execute_result"
    },
    {
     "data": {
      "image/png": "[encoded data removed]",
      "text/plain": [
       "<Figure size 432x288 with 1 Axes>"
      ]
     },
     "metadata": {
      "needs_background": "light"
     },
     "output_type": "display_data"
    }
   ],
   "source": [
    "plt.plot(hist.history['accuracy'])\n",
    "plt.plot(hist.history['val_accuracy'])\n",
    "plt.legend(['train','test'])"
   ]
  },
  {
   "cell_type": "code",
   "execution_count": 15,
   "metadata": {},
   "outputs": [
    {
     "data": {
      "text/plain": [
       "<matplotlib.legend.Legend at 0x206242fda48>"
      ]
     },
     "execution_count": 15,
     "metadata": {},
     "output_type": "execute_result"
    },
    {
     "data": {
      "image/png": "[encoded data removed]",
      "text/plain": [
       "<Figure size 432x288 with 1 Axes>"
      ]
     },
     "metadata": {
      "needs_background": "light"
     },
     "output_type": "display_data"
    }
   ],
   "source": [
    "plt.plot(hist.history['loss'])\n",
    "plt.plot(hist.history['val_loss'])\n",
    "plt.legend(['train','test'])"
   ]
  },
  {
   "cell_type": "code",
   "execution_count": 19,
   "metadata": {},
   "outputs": [
    {
     "name": "stdout",
     "output_type": "stream",
     "text": [
      "model saved Successfully !!\n"
     ]
    }
   ],
   "source": [
    "from tensorflow.keras.models import load_model\n",
    "model.save('VGG16.h5')\n",
    "print('model saved Successfully !!')"
   ]
  },
  {
   "cell_type": "code",
   "execution_count": 20,
   "metadata": {},
   "outputs": [
    {
     "data": {
      "text/plain": [
       "array([[8.48366246e-02, 8.00594151e-01, 1.14569269e-01],\n",
       "       [1.04900971e-02, 7.79056968e-03, 9.81719315e-01],\n",
       "       [1.63943521e-04, 9.99009252e-01, 8.26780510e-04],\n",
       "       [9.47371183e-04, 8.91377449e-01, 1.07675120e-01],\n",
       "       [4.33168337e-02, 9.93804038e-02, 8.57302725e-01],\n",
       "       [3.44175642e-04, 9.99310851e-01, 3.44945205e-04],\n",
       "       [2.91838624e-05, 9.98960853e-01, 1.01000676e-03],\n",
       "       [5.26556559e-03, 3.75949126e-03, 9.90974963e-01],\n",
       "       [4.00353369e-04, 9.99242187e-01, 3.57489975e-04],\n",
       "       [4.97793794e-01, 1.02143222e-02, 4.91991967e-01],\n",
       "       [6.13305978e-02, 1.12018518e-01, 8.26650858e-01],\n",
       "       [8.81784916e-01, 1.01843230e-01, 1.63718332e-02],\n",
       "       [4.11124714e-02, 1.27202086e-02, 9.46167350e-01],\n",
       "       [1.74942330e-01, 5.81714837e-03, 8.19240510e-01],\n",
       "       [3.37954116e-04, 9.99431312e-01, 2.30647725e-04],\n",
       "       [3.81319271e-03, 9.90400732e-01, 5.78609202e-03],\n",
       "       [1.00770814e-03, 9.96880770e-01, 2.11151969e-03],\n",
       "       [9.88419056e-01, 9.83428108e-05, 1.14824986e-02],\n",
       "       [9.56946537e-02, 4.03236002e-01, 5.01069307e-01],\n",
       "       [6.88993186e-03, 5.10636251e-03, 9.88003731e-01],\n",
       "       [2.67778849e-03, 9.76225853e-01, 2.10963544e-02],\n",
       "       [9.75622237e-01, 4.53387899e-03, 1.98438521e-02],\n",
       "       [1.08942240e-02, 7.89562047e-01, 1.99543789e-01],\n",
       "       [1.76537156e-01, 7.11141407e-01, 1.12321459e-01],\n",
       "       [1.83693192e-04, 9.99429643e-01, 3.86556087e-04],\n",
       "       [2.44297227e-03, 9.63846445e-01, 3.37105766e-02],\n",
       "       [1.99032924e-03, 9.97650564e-01, 3.59168713e-04],\n",
       "       [5.80054820e-02, 4.06332076e-01, 5.35662472e-01],\n",
       "       [9.99879479e-01, 4.89256854e-06, 1.15677729e-04],\n",
       "       [9.97947633e-01, 3.64922627e-04, 1.68755185e-03],\n",
       "       [4.52212727e-04, 9.91946399e-01, 7.60145579e-03],\n",
       "       [1.41027209e-03, 9.98458862e-01, 1.30978093e-04],\n",
       "       [4.15455759e-01, 1.08909782e-03, 5.83455145e-01],\n",
       "       [6.94625964e-03, 5.25193751e-01, 4.67860043e-01],\n",
       "       [8.84573720e-03, 9.71309423e-01, 1.98448449e-02],\n",
       "       [1.50800988e-01, 8.42668474e-01, 6.53049909e-03],\n",
       "       [8.71534467e-01, 3.33203301e-02, 9.51451659e-02],\n",
       "       [3.71490158e-02, 7.22291231e-01, 2.40559816e-01],\n",
       "       [2.77916784e-03, 9.62494135e-01, 3.47266495e-02],\n",
       "       [2.33808227e-04, 9.99653220e-01, 1.12917332e-04],\n",
       "       [7.86058081e-04, 9.98291075e-01, 9.22866340e-04],\n",
       "       [1.13476315e-04, 9.97316420e-01, 2.57018534e-03],\n",
       "       [1.71972662e-02, 5.33612192e-01, 4.49190557e-01],\n",
       "       [2.65178899e-03, 9.96127188e-01, 1.22105144e-03],\n",
       "       [3.07240349e-04, 9.98785675e-01, 9.07097536e-04],\n",
       "       [1.01140803e-02, 9.52304900e-01, 3.75810489e-02],\n",
       "       [5.87472975e-01, 2.87293904e-02, 3.83797586e-01],\n",
       "       [2.81696557e-04, 9.99556243e-01, 1.62060402e-04],\n",
       "       [1.95431011e-03, 9.97379839e-01, 6.65863045e-04],\n",
       "       [2.20200986e-01, 2.05909219e-02, 7.59208083e-01],\n",
       "       [1.58294977e-03, 9.97764826e-01, 6.52297691e-04],\n",
       "       [1.00847683e-04, 9.99249995e-01, 6.49111869e-04],\n",
       "       [3.57442349e-01, 7.78637901e-02, 5.64693868e-01],\n",
       "       [2.96668291e-01, 2.58777011e-03, 7.00743973e-01],\n",
       "       [9.90482606e-03, 9.78214383e-01, 1.18807945e-02],\n",
       "       [4.73076303e-04, 9.86108363e-01, 1.34185757e-02],\n",
       "       [4.05666465e-03, 9.95807528e-01, 1.35823910e-04],\n",
       "       [3.28151807e-02, 1.10489354e-01, 8.56695473e-01]], dtype=float32)"
      ]
     },
     "execution_count": 20,
     "metadata": {},
     "output_type": "execute_result"
    }
   ],
   "source": [
    "y_pred = model.predict(testset)\n",
    "y_pred"
   ]
  },
  {
   "cell_type": "code",
   "execution_count": 21,
   "metadata": {},
   "outputs": [
    {
     "data": {
      "text/plain": [
       "array([1, 2, 1, 1, 2, 1, 1, 2, 1, 0, 2, 0, 2, 2, 1, 1, 1, 0, 2, 2, 1, 0,\n",
       "       1, 1, 1, 1, 1, 2, 0, 0, 1, 1, 2, 1, 1, 1, 0, 1, 1, 1, 1, 1, 1, 1,\n",
       "       1, 1, 0, 1, 1, 2, 1, 1, 2, 2, 1, 1, 1, 2], dtype=int64)"
      ]
     },
     "execution_count": 21,
     "metadata": {},
     "output_type": "execute_result"
    }
   ],
   "source": [
    "y_pred = np.argmax(y_pred , axis=1)\n",
    "y_pred"
   ]
  },
  {
   "cell_type": "code",
   "execution_count": 34,
   "metadata": {},
   "outputs": [],
   "source": [
    "from tensorflow.keras.applications.vgg16 import preprocess_input"
   ]
  },
  {
   "cell_type": "code",
   "execution_count": 113,
   "metadata": {},
   "outputs": [],
   "source": [
    "model=load_model('VGG16.h5')\n",
    "img = image.load_img('Datasets/Test/lamborghini/21.jpg',target_size=(224,224))\n",
    "x = image.img_to_array(img)\n",
    "x = x/255"
   ]
  },
  {
   "cell_type": "code",
   "execution_count": 114,
   "metadata": {},
   "outputs": [
    {
     "data": {
      "text/plain": [
       "array([[[0.00784314, 0.20784314, 0.6666667 ],\n",
       "        [0.01568628, 0.20784314, 0.67058825],\n",
       "        [0.01568628, 0.20784314, 0.67058825],\n",
       "        ...,\n",
       "        [0.9882353 , 0.85490197, 0.81960785],\n",
       "        [0.9882353 , 0.85490197, 0.81960785],\n",
       "        [0.99215686, 0.84705883, 0.8156863 ]],\n",
       "\n",
       "       [[0.01176471, 0.21176471, 0.67058825],\n",
       "        [0.01568628, 0.20784314, 0.67058825],\n",
       "        [0.01960784, 0.21176471, 0.6745098 ],\n",
       "        ...,\n",
       "        [0.9882353 , 0.85490197, 0.81960785],\n",
       "        [0.9882353 , 0.85490197, 0.81960785],\n",
       "        [0.99215686, 0.84705883, 0.8156863 ]],\n",
       "\n",
       "       [[0.01176471, 0.21176471, 0.67058825],\n",
       "        [0.01568628, 0.20784314, 0.67058825],\n",
       "        [0.01960784, 0.21176471, 0.6745098 ],\n",
       "        ...,\n",
       "        [0.9882353 , 0.85490197, 0.81960785],\n",
       "        [0.9882353 , 0.85490197, 0.81960785],\n",
       "        [0.99215686, 0.84705883, 0.8156863 ]],\n",
       "\n",
       "       ...,\n",
       "\n",
       "       [[0.49803922, 0.62352943, 0.9098039 ],\n",
       "        [0.31764707, 0.4509804 , 0.7019608 ],\n",
       "        [0.03137255, 0.16862746, 0.39607844],\n",
       "        ...,\n",
       "        [0.6862745 , 0.5137255 , 0.40784314],\n",
       "        [0.64705884, 0.4745098 , 0.36862746],\n",
       "        [0.5529412 , 0.38039216, 0.27450982]],\n",
       "\n",
       "       [[0.49803922, 0.62352943, 0.9098039 ],\n",
       "        [0.31764707, 0.4509804 , 0.7019608 ],\n",
       "        [0.03137255, 0.16862746, 0.39607844],\n",
       "        ...,\n",
       "        [0.6862745 , 0.5137255 , 0.40784314],\n",
       "        [0.64705884, 0.4745098 , 0.36862746],\n",
       "        [0.5529412 , 0.38039216, 0.27450982]],\n",
       "\n",
       "       [[0.01960784, 0.13725491, 0.41960785],\n",
       "        [0.4       , 0.52156866, 0.77254903],\n",
       "        [0.5686275 , 0.69411767, 0.91764706],\n",
       "        ...,\n",
       "        [0.42745098, 0.25490198, 0.15686275],\n",
       "        [0.47843137, 0.30588236, 0.20784314],\n",
       "        [0.5294118 , 0.35686275, 0.25882354]]], dtype=float32)"
      ]
     },
     "execution_count": 114,
     "metadata": {},
     "output_type": "execute_result"
    }
   ],
   "source": [
    "x"
   ]
  },
  {
   "cell_type": "code",
   "execution_count": 115,
   "metadata": {},
   "outputs": [
    {
     "data": {
      "text/plain": [
       "(1, 224, 224, 3)"
      ]
     },
     "execution_count": 115,
     "metadata": {},
     "output_type": "execute_result"
    }
   ],
   "source": [
    "x=np.expand_dims(x,axis=0)\n",
    "img_data = preprocess_input(x)\n",
    "img_data.shape"
   ]
  },
  {
   "cell_type": "code",
   "execution_count": 116,
   "metadata": {},
   "outputs": [],
   "source": [
    "ans = model.predict(x)"
   ]
  },
  {
   "cell_type": "code",
   "execution_count": 117,
   "metadata": {},
   "outputs": [
    {
     "data": {
      "text/plain": [
       "array([[0.04858455, 0.00606147, 0.945354  ]], dtype=float32)"
      ]
     },
     "execution_count": 117,
     "metadata": {},
     "output_type": "execute_result"
    }
   ],
   "source": [
    "ans"
   ]
  },
  {
   "cell_type": "code",
   "execution_count": 118,
   "metadata": {},
   "outputs": [
    {
     "data": {
      "text/plain": [
       "2"
      ]
     },
     "execution_count": 118,
     "metadata": {},
     "output_type": "execute_result"
    }
   ],
   "source": [
    "np.argmax(ans)"
   ]
  },
  {
   "cell_type": "code",
   "execution_count": null,
   "metadata": {},
   "outputs": [],
   "source": []
  },
  {
   "cell_type": "code",
   "execution_count": null,
   "metadata": {},
   "outputs": [],
   "source": []
  }
 ],
 "metadata": {
  "kernelspec": {
   "display_name": "Python 3",
   "language": "python",
   "name": "python3"
  },
  "language_info": {
   "codemirror_mode": {
    "name": "ipython",
    "version": 3
   },
   "file_extension": ".py",
   "mimetype": "text/x-python",
   "name": "python",
   "nbconvert_exporter": "python",
   "pygments_lexer": "ipython3",
   "version": "3.7.9"
  }
 },
 "nbformat": 4,
 "nbformat_minor": 4
}

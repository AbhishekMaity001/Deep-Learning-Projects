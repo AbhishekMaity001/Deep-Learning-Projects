{
 "cells": [
  {
   "cell_type": "code",
   "execution_count": 13,
   "metadata": {
    "scrolled": true
   },
   "outputs": [
    {
     "ename": "IndentationError",
     "evalue": "unexpected indent (<ipython-input-13-a6da09f85d76>, line 42)",
     "output_type": "error",
     "traceback": [
      "\u001b[1;36m  File \u001b[1;32m\"<ipython-input-13-a6da09f85d76>\"\u001b[1;36m, line \u001b[1;32m42\u001b[0m\n\u001b[1;33m    file_name_path = './Images/Abhishek/'+str(count)+'.jpg'\u001b[0m\n\u001b[1;37m    ^\u001b[0m\n\u001b[1;31mIndentationError\u001b[0m\u001b[1;31m:\u001b[0m unexpected indent\n"
     ]
    }
   ],
   "source": [
    "import cv2\n",
    "import numpy as np\n",
    "\n",
    "# load HAAR CASCADE Classifier\n",
    "face_classifier = cv2.CascadeClassifier('haarcascade_frontalface_default.xml')\n",
    "\n",
    "# load functions\n",
    "def face_extractor(img) :\n",
    "    # Function detects faces and returns the cropped face\n",
    "    # If no face detected then it will return the input image\n",
    "    \n",
    "    # gray = cv2.cvtColor(img, cv2.COLOR_BGR2GRAY)\n",
    "    faces = face_classifier.detectMultiScale(img, 1.3, 5)\n",
    "    \n",
    "    if faces is ():\n",
    "        return None\n",
    "    \n",
    "    # crop all faces found\n",
    "    for (x, y, w, h) in faces :\n",
    "        x = x-10\n",
    "        y = y-10\n",
    "        cropped_face = img[y : y+h+100, x : x+w+100]\n",
    "        \n",
    "    return cropped_face\n",
    "\n",
    "# initialize the webcam\n",
    "cap = cv2.VideoCapture(0)\n",
    "count = 0\n",
    "\n",
    "while True :\n",
    "    \n",
    "    count+=1\n",
    "    _, frame = cap.read()\n",
    "    frame = cv2.flip(frame,1) # flipping the frame\n",
    "    \n",
    "    #if face_extractor(frame) is not None :\n",
    "        #count+=1\n",
    "        #face = cv2.resize(face_extractor(frame), (600,600))\n",
    "        # face  = cv2.cvtColor(face, cv2.COLOR_BGR2GRAY)\n",
    "        \n",
    "        # saving the file in the directory\n",
    "        file_name_path = './Images/Abhishek/'+str(count)+'.jpg'\n",
    "        cv2.imwrite(file_name_path, frame)\n",
    "        \n",
    "        # put count on images and display live count\n",
    "        cv2.putText(frame, str(count), (50,50), cv2.FONT_HERSHEY_COMPLEX, 1, (255,255,0), 2)\n",
    "        cv2.imshow('Face Cropper', frame)\n",
    "        \n",
    "    else :\n",
    "        print(\"Face Not Found\")\n",
    "        pass\n",
    "    \n",
    "    if cv2.waitKey(1) == 13 or count ==100 :\n",
    "        break\n",
    "        \n",
    "cap.release()\n",
    "cv2.destroyAllWindows()\n",
    "print(\"Samples collected Successfully\")\n",
    "        \n"
   ]
  },
  {
   "cell_type": "markdown",
   "metadata": {},
   "source": [
    "# without croping saving the images!"
   ]
  },
  {
   "cell_type": "code",
   "execution_count": 24,
   "metadata": {},
   "outputs": [
    {
     "name": "stdout",
     "output_type": "stream",
     "text": [
      "Samples collected Successfully\n"
     ]
    }
   ],
   "source": [
    "import cv2\n",
    "import numpy as np\n",
    "\n",
    "# load HAAR CASCADE Classifier\n",
    "face_classifier = cv2.CascadeClassifier('haarcascade_frontalface_default.xml')\n",
    "\n",
    "# initialize the webcam\n",
    "cap = cv2.VideoCapture(0)\n",
    "count = 0\n",
    "\n",
    "while True :\n",
    "    \n",
    "    count+=1\n",
    "    _, frame = cap.read()\n",
    "    frame = cv2.flip(frame,1) # flipping the frame\n",
    " # saving the file in the directory\n",
    "    file_name_path = './Images/Abhishek/'+str(count)+'.jpg'\n",
    "    cv2.imwrite(file_name_path, frame)\n",
    "        \n",
    "# put count on images and display live count\n",
    "    cv2.putText(frame, str(count), (50,50), cv2.FONT_HERSHEY_COMPLEX, 1, (0,0,255), 2)\n",
    "    cv2.imshow('Face Cropper', frame)\n",
    "    \n",
    "    if cv2.waitKey(1) == 13 or count ==200 :\n",
    "        break\n",
    "        \n",
    "cap.release()\n",
    "cv2.destroyAllWindows()\n",
    "print(\"Samples collected Successfully\")\n"
   ]
  },
  {
   "cell_type": "code",
   "execution_count": 10,
   "metadata": {},
   "outputs": [],
   "source": [
    "import cv2\n",
    "cap = cv2.VideoCapture(0)\n",
    "\n",
    "while True :\n",
    "    _, frame = cap.read()\n",
    "    frame = cv2.flip(frame,1) # flipping the frame\n",
    "    cv2.imshow(\"window\",frame)\n",
    "    \n",
    "    if cv2.waitKey(1) == 27:\n",
    "        break\n",
    "\n",
    "cap.release() # just relese the resource (webcam)\n",
    "cv2.destroyAllWindows()\n"
   ]
  },
  {
   "cell_type": "code",
   "execution_count": 25,
   "metadata": {},
   "outputs": [],
   "source": [
    "import os \n",
    "path = r'D:\\Data Science\\Deep-Learning-Projects\\Collect Images for FaceRecognition\\Images\\Abhishek'\n",
    "count = 0\n",
    "for i in os.listdir(path) :\n",
    "    os.rename(path + '\\\\'+ i, path + '\\\\'+ 'Abhi_'+str(count)+'.png')\n",
    "    count+=1\n"
   ]
  },
  {
   "cell_type": "code",
   "execution_count": null,
   "metadata": {},
   "outputs": [],
   "source": []
  },
  {
   "cell_type": "code",
   "execution_count": null,
   "metadata": {},
   "outputs": [],
   "source": []
  },
  {
   "cell_type": "code",
   "execution_count": null,
   "metadata": {},
   "outputs": [],
   "source": []
  },
  {
   "cell_type": "code",
   "execution_count": null,
   "metadata": {},
   "outputs": [],
   "source": []
  }
 ],
 "metadata": {
  "kernelspec": {
   "display_name": "Python 3",
   "language": "python",
   "name": "python3"
  },
  "language_info": {
   "codemirror_mode": {
    "name": "ipython",
    "version": 3
   },
   "file_extension": ".py",
   "mimetype": "text/x-python",
   "name": "python",
   "nbconvert_exporter": "python",
   "pygments_lexer": "ipython3",
   "version": "3.7.9"
  }
 },
 "nbformat": 4,
 "nbformat_minor": 4
}

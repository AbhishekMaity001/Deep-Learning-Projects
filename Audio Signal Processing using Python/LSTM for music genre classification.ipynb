{
 "cells": [
  {
   "cell_type": "code",
   "execution_count": 1,
   "metadata": {},
   "outputs": [],
   "source": [
    "# This code just limits the gpu usage till 60% ...otherwise you will get memory error\n",
    "from tensorflow.compat.v1 import ConfigProto\n",
    "from tensorflow.compat.v1 import InteractiveSession\n",
    "config = ConfigProto()\n",
    "config.gpu_options.per_process_gpu_memory_fraction = 0.6\n",
    "config.gpu_options.allow_growth = True\n",
    "session = InteractiveSession(config=config)"
   ]
  },
  {
   "cell_type": "code",
   "execution_count": 2,
   "metadata": {},
   "outputs": [],
   "source": [
    "import numpy as np\n",
    "import pandas as pd\n",
    "import matplotlib.pyplot as plt\n",
    "import json\n",
    "import tensorflow as tf\n",
    "from sklearn.model_selection import train_test_split"
   ]
  },
  {
   "cell_type": "code",
   "execution_count": 3,
   "metadata": {},
   "outputs": [],
   "source": [
    "def load_data(dataset_path):\n",
    "    with open(dataset_path, \"r\") as fi :\n",
    "        data = json.load(fi)\n",
    "        \n",
    "    # convert list into numpy array bcoz labels and mfccs are stored into lists\n",
    "    inputs = np.array(data[\"mfcc\"])\n",
    "    targets = np.array(data[\"labels\"])\n",
    "    \n",
    "    return inputs,targets"
   ]
  },
  {
   "cell_type": "code",
   "execution_count": 4,
   "metadata": {},
   "outputs": [],
   "source": [
    "inputs, targets = load_data('data.json')"
   ]
  },
  {
   "cell_type": "code",
   "execution_count": 5,
   "metadata": {},
   "outputs": [
    {
     "data": {
      "text/plain": [
       "((100, 130, 13), (100,))"
      ]
     },
     "execution_count": 5,
     "metadata": {},
     "output_type": "execute_result"
    }
   ],
   "source": [
    "inputs.shape, targets.shape"
   ]
  },
  {
   "cell_type": "code",
   "execution_count": 6,
   "metadata": {},
   "outputs": [],
   "source": [
    "# create train/validation/test data\n",
    "# build CNN\n",
    "# train the CNN\n",
    "# evaluate the CNN on test set\n",
    "# make prediction on sample"
   ]
  },
  {
   "cell_type": "code",
   "execution_count": 7,
   "metadata": {},
   "outputs": [],
   "source": [
    "X, y = load_data('data.json')\n",
    "X_train, X_test, y_train, y_test = train_test_split(X, y, test_size=0.25)\n",
    "X_train, X_validation, y_train, y_validation = train_test_split(X_train, y_train, test_size=0.2)\n",
    "\n",
    "# now expand the dimensions bcoz CNN takes 4D tensors \n",
    "# X_train = X_train[..., np.newaxis] # 4d array -> (num_samples, 130, 13, 1)\n",
    "# X_validation = X_validation[..., np.newaxis]\n",
    "# X_test = X_test[..., np.newaxis] "
   ]
  },
  {
   "cell_type": "code",
   "execution_count": 8,
   "metadata": {},
   "outputs": [
    {
     "data": {
      "text/plain": [
       "((60, 130, 13), (15, 130, 13), (25, 130, 13))"
      ]
     },
     "execution_count": 8,
     "metadata": {},
     "output_type": "execute_result"
    }
   ],
   "source": [
    "X_train.shape, X_validation.shape, X_test.shape"
   ]
  },
  {
   "cell_type": "markdown",
   "metadata": {},
   "source": [
    "# Building the model architecture"
   ]
  },
  {
   "cell_type": "code",
   "execution_count": 9,
   "metadata": {},
   "outputs": [
    {
     "name": "stdout",
     "output_type": "stream",
     "text": [
      "Model: \"sequential\"\n",
      "_________________________________________________________________\n",
      "Layer (type)                 Output Shape              Param #   \n",
      "=================================================================\n",
      "lstm (LSTM)                  (None, 130, 64)           19968     \n",
      "_________________________________________________________________\n",
      "lstm_1 (LSTM)                (None, 64)                33024     \n",
      "_________________________________________________________________\n",
      "dense (Dense)                (None, 64)                4160      \n",
      "_________________________________________________________________\n",
      "dropout (Dropout)            (None, 64)                0         \n",
      "_________________________________________________________________\n",
      "dense_1 (Dense)              (None, 10)                650       \n",
      "=================================================================\n",
      "Total params: 57,802\n",
      "Trainable params: 57,802\n",
      "Non-trainable params: 0\n",
      "_________________________________________________________________\n"
     ]
    }
   ],
   "source": [
    "model = tf.keras.Sequential([\n",
    "    \n",
    "    tf.keras.layers.LSTM(64, input_shape = (X_train.shape[1], X_train.shape[2]), return_sequences=True),\n",
    "    tf.keras.layers.LSTM(64),\n",
    "    tf.keras.layers.Dense(64, activation='relu'),\n",
    "    tf.keras.layers.Dropout(0.3),\n",
    "    \n",
    "    tf.keras.layers.Dense(10, activation='softmax')   \n",
    "    \n",
    "])\n",
    "\n",
    "model.summary()"
   ]
  },
  {
   "cell_type": "code",
   "execution_count": 39,
   "metadata": {
    "scrolled": true
   },
   "outputs": [
    {
     "name": "stdout",
     "output_type": "stream",
     "text": [
      "Train on 60 samples, validate on 15 samples\n",
      "Epoch 1/100\n",
      "60/60 [==============================] - 3s 47ms/sample - loss: 0.3149 - accuracy: 0.9833 - val_loss: 0.7724 - val_accuracy: 0.8000\n",
      "Epoch 2/100\n",
      "60/60 [==============================] - 0s 994us/sample - loss: 0.3045 - accuracy: 0.9833 - val_loss: 0.7700 - val_accuracy: 0.8000\n",
      "Epoch 3/100\n",
      "60/60 [==============================] - 0s 959us/sample - loss: 0.2272 - accuracy: 1.0000 - val_loss: 0.7645 - val_accuracy: 0.8000\n",
      "Epoch 4/100\n",
      "60/60 [==============================] - 0s 864us/sample - loss: 0.2336 - accuracy: 0.9833 - val_loss: 0.7580 - val_accuracy: 0.8000\n",
      "Epoch 5/100\n",
      "60/60 [==============================] - 0s 863us/sample - loss: 0.2267 - accuracy: 1.0000 - val_loss: 0.7360 - val_accuracy: 0.8000\n",
      "Epoch 6/100\n",
      "60/60 [==============================] - 0s 879us/sample - loss: 0.2468 - accuracy: 1.0000 - val_loss: 0.6913 - val_accuracy: 0.8000\n",
      "Epoch 7/100\n",
      "60/60 [==============================] - 0s 887us/sample - loss: 0.2253 - accuracy: 0.9833 - val_loss: 0.6040 - val_accuracy: 0.8667\n",
      "Epoch 8/100\n",
      "60/60 [==============================] - 0s 878us/sample - loss: 0.2269 - accuracy: 1.0000 - val_loss: 0.5550 - val_accuracy: 0.9333\n",
      "Epoch 9/100\n",
      "60/60 [==============================] - 0s 851us/sample - loss: 0.2008 - accuracy: 1.0000 - val_loss: 0.5552 - val_accuracy: 0.9333\n",
      "Epoch 10/100\n",
      "60/60 [==============================] - 0s 863us/sample - loss: 0.2054 - accuracy: 1.0000 - val_loss: 0.5274 - val_accuracy: 0.9333\n",
      "Epoch 11/100\n",
      "60/60 [==============================] - 0s 838us/sample - loss: 0.2407 - accuracy: 0.9833 - val_loss: 0.5234 - val_accuracy: 0.9333\n",
      "Epoch 12/100\n",
      "60/60 [==============================] - 0s 851us/sample - loss: 0.1840 - accuracy: 1.0000 - val_loss: 0.5466 - val_accuracy: 0.9333\n",
      "Epoch 13/100\n",
      "60/60 [==============================] - 0s 825us/sample - loss: 0.1861 - accuracy: 1.0000 - val_loss: 0.5804 - val_accuracy: 0.8667\n",
      "Epoch 14/100\n",
      "60/60 [==============================] - 0s 822us/sample - loss: 0.1848 - accuracy: 0.9833 - val_loss: 0.5501 - val_accuracy: 0.8667\n",
      "Epoch 15/100\n",
      "60/60 [==============================] - 0s 814us/sample - loss: 0.1691 - accuracy: 0.9833 - val_loss: 0.6241 - val_accuracy: 0.8667\n",
      "Epoch 16/100\n",
      "60/60 [==============================] - 0s 819us/sample - loss: 0.1876 - accuracy: 0.9833 - val_loss: 0.6144 - val_accuracy: 0.8667\n",
      "Epoch 17/100\n",
      "60/60 [==============================] - 0s 801us/sample - loss: 0.1860 - accuracy: 0.9833 - val_loss: 0.5805 - val_accuracy: 0.8667\n",
      "Epoch 18/100\n",
      "60/60 [==============================] - 0s 802us/sample - loss: 0.1250 - accuracy: 1.0000 - val_loss: 0.5552 - val_accuracy: 0.8667\n",
      "Epoch 19/100\n",
      "60/60 [==============================] - 0s 811us/sample - loss: 0.1610 - accuracy: 1.0000 - val_loss: 0.5660 - val_accuracy: 0.8667\n",
      "Epoch 20/100\n",
      "60/60 [==============================] - 0s 820us/sample - loss: 0.1515 - accuracy: 1.0000 - val_loss: 0.5616 - val_accuracy: 0.8667\n",
      "Epoch 21/100\n",
      "60/60 [==============================] - 0s 867us/sample - loss: 0.1780 - accuracy: 1.0000 - val_loss: 0.5624 - val_accuracy: 0.8667\n",
      "Epoch 22/100\n",
      "60/60 [==============================] - 0s 874us/sample - loss: 0.1248 - accuracy: 1.0000 - val_loss: 0.5474 - val_accuracy: 0.8667\n",
      "Epoch 23/100\n",
      "60/60 [==============================] - 0s 933us/sample - loss: 0.1407 - accuracy: 1.0000 - val_loss: 0.5334 - val_accuracy: 0.8667\n",
      "Epoch 24/100\n",
      "60/60 [==============================] - 0s 1ms/sample - loss: 0.1265 - accuracy: 1.0000 - val_loss: 0.5312 - val_accuracy: 0.8667\n",
      "Epoch 25/100\n",
      "60/60 [==============================] - 0s 983us/sample - loss: 0.1679 - accuracy: 1.0000 - val_loss: 0.5498 - val_accuracy: 0.8667\n",
      "Epoch 26/100\n",
      "60/60 [==============================] - 0s 917us/sample - loss: 0.1364 - accuracy: 1.0000 - val_loss: 0.5440 - val_accuracy: 0.8667\n",
      "Epoch 27/100\n",
      "60/60 [==============================] - 0s 843us/sample - loss: 0.1498 - accuracy: 1.0000 - val_loss: 0.5873 - val_accuracy: 0.8667\n",
      "Epoch 28/100\n",
      "60/60 [==============================] - 0s 910us/sample - loss: 0.1419 - accuracy: 1.0000 - val_loss: 0.4764 - val_accuracy: 0.8667\n",
      "Epoch 29/100\n",
      "60/60 [==============================] - 0s 863us/sample - loss: 0.1016 - accuracy: 1.0000 - val_loss: 0.7994 - val_accuracy: 0.8667\n",
      "Epoch 30/100\n",
      "60/60 [==============================] - 0s 869us/sample - loss: 0.1621 - accuracy: 1.0000 - val_loss: 0.8380 - val_accuracy: 0.7333\n",
      "Epoch 31/100\n",
      "60/60 [==============================] - 0s 874us/sample - loss: 0.1087 - accuracy: 1.0000 - val_loss: 0.9370 - val_accuracy: 0.6667\n",
      "Epoch 32/100\n",
      "60/60 [==============================] - 0s 874us/sample - loss: 0.1516 - accuracy: 1.0000 - val_loss: 0.8905 - val_accuracy: 0.7333\n",
      "Epoch 33/100\n",
      "60/60 [==============================] - 0s 874us/sample - loss: 0.1154 - accuracy: 1.0000 - val_loss: 0.9908 - val_accuracy: 0.6667\n",
      "Epoch 34/100\n",
      "60/60 [==============================] - 0s 869us/sample - loss: 0.1063 - accuracy: 1.0000 - val_loss: 1.0101 - val_accuracy: 0.6667\n",
      "Epoch 35/100\n",
      "60/60 [==============================] - 0s 860us/sample - loss: 0.0823 - accuracy: 1.0000 - val_loss: 0.8628 - val_accuracy: 0.7333\n",
      "Epoch 36/100\n",
      "60/60 [==============================] - 0s 834us/sample - loss: 0.0869 - accuracy: 1.0000 - val_loss: 0.8507 - val_accuracy: 0.7333\n",
      "Epoch 37/100\n",
      "60/60 [==============================] - 0s 822us/sample - loss: 0.1146 - accuracy: 1.0000 - val_loss: 0.8526 - val_accuracy: 0.7333\n",
      "Epoch 38/100\n",
      "60/60 [==============================] - 0s 892us/sample - loss: 0.1081 - accuracy: 1.0000 - val_loss: 0.8713 - val_accuracy: 0.7333\n",
      "Epoch 39/100\n",
      "60/60 [==============================] - 0s 823us/sample - loss: 0.1101 - accuracy: 1.0000 - val_loss: 0.8913 - val_accuracy: 0.7333\n",
      "Epoch 40/100\n",
      "60/60 [==============================] - 0s 827us/sample - loss: 0.0987 - accuracy: 1.0000 - val_loss: 0.9153 - val_accuracy: 0.7333\n",
      "Epoch 41/100\n",
      "60/60 [==============================] - 0s 838us/sample - loss: 0.0987 - accuracy: 1.0000 - val_loss: 0.9303 - val_accuracy: 0.7333\n",
      "Epoch 42/100\n",
      "60/60 [==============================] - 0s 813us/sample - loss: 0.0984 - accuracy: 1.0000 - val_loss: 0.9327 - val_accuracy: 0.7333\n",
      "Epoch 43/100\n",
      "60/60 [==============================] - 0s 866us/sample - loss: 0.0907 - accuracy: 1.0000 - val_loss: 0.9287 - val_accuracy: 0.7333\n",
      "Epoch 44/100\n",
      "60/60 [==============================] - 0s 809us/sample - loss: 0.0945 - accuracy: 1.0000 - val_loss: 0.9282 - val_accuracy: 0.7333\n",
      "Epoch 45/100\n",
      "60/60 [==============================] - 0s 809us/sample - loss: 0.1162 - accuracy: 1.0000 - val_loss: 0.9269 - val_accuracy: 0.7333\n",
      "Epoch 46/100\n",
      "60/60 [==============================] - 0s 794us/sample - loss: 0.0856 - accuracy: 1.0000 - val_loss: 0.9249 - val_accuracy: 0.7333\n",
      "Epoch 47/100\n",
      "60/60 [==============================] - 0s 800us/sample - loss: 0.0845 - accuracy: 1.0000 - val_loss: 0.9310 - val_accuracy: 0.7333\n",
      "Epoch 48/100\n",
      "60/60 [==============================] - 0s 838us/sample - loss: 0.0820 - accuracy: 1.0000 - val_loss: 0.9502 - val_accuracy: 0.7333\n",
      "Epoch 49/100\n",
      "60/60 [==============================] - 0s 795us/sample - loss: 0.0824 - accuracy: 1.0000 - val_loss: 0.9514 - val_accuracy: 0.7333\n",
      "Epoch 50/100\n",
      "60/60 [==============================] - 0s 800us/sample - loss: 0.0633 - accuracy: 1.0000 - val_loss: 0.9579 - val_accuracy: 0.7333\n",
      "Epoch 51/100\n",
      "60/60 [==============================] - 0s 796us/sample - loss: 0.0669 - accuracy: 1.0000 - val_loss: 0.9549 - val_accuracy: 0.7333\n",
      "Epoch 52/100\n",
      "60/60 [==============================] - 0s 827us/sample - loss: 0.0846 - accuracy: 1.0000 - val_loss: 0.9588 - val_accuracy: 0.7333\n",
      "Epoch 53/100\n",
      "60/60 [==============================] - 0s 827us/sample - loss: 0.0585 - accuracy: 1.0000 - val_loss: 0.9601 - val_accuracy: 0.7333\n",
      "Epoch 54/100\n",
      "60/60 [==============================] - 0s 827us/sample - loss: 0.0809 - accuracy: 1.0000 - val_loss: 0.9735 - val_accuracy: 0.7333\n",
      "Epoch 55/100\n",
      "60/60 [==============================] - 0s 825us/sample - loss: 0.0805 - accuracy: 1.0000 - val_loss: 0.9857 - val_accuracy: 0.7333\n",
      "Epoch 56/100\n",
      "60/60 [==============================] - 0s 817us/sample - loss: 0.0626 - accuracy: 1.0000 - val_loss: 0.9762 - val_accuracy: 0.7333\n"
     ]
    },
    {
     "name": "stdout",
     "output_type": "stream",
     "text": [
      "Epoch 57/100\n",
      "60/60 [==============================] - 0s 802us/sample - loss: 0.0498 - accuracy: 1.0000 - val_loss: 0.8706 - val_accuracy: 0.7333\n",
      "Epoch 58/100\n",
      "60/60 [==============================] - 0s 829us/sample - loss: 0.0748 - accuracy: 1.0000 - val_loss: 0.8713 - val_accuracy: 0.7333\n",
      "Epoch 59/100\n",
      "60/60 [==============================] - 0s 796us/sample - loss: 0.0570 - accuracy: 1.0000 - val_loss: 0.9845 - val_accuracy: 0.7333\n",
      "Epoch 60/100\n",
      "60/60 [==============================] - 0s 803us/sample - loss: 0.0749 - accuracy: 1.0000 - val_loss: 0.9923 - val_accuracy: 0.7333\n",
      "Epoch 61/100\n",
      "60/60 [==============================] - 0s 812us/sample - loss: 0.0725 - accuracy: 1.0000 - val_loss: 0.9948 - val_accuracy: 0.7333\n",
      "Epoch 62/100\n",
      "60/60 [==============================] - 0s 804us/sample - loss: 0.0688 - accuracy: 1.0000 - val_loss: 0.8549 - val_accuracy: 0.7333\n",
      "Epoch 63/100\n",
      "60/60 [==============================] - 0s 780us/sample - loss: 0.0592 - accuracy: 1.0000 - val_loss: 0.8607 - val_accuracy: 0.7333\n",
      "Epoch 64/100\n",
      "60/60 [==============================] - 0s 768us/sample - loss: 0.0806 - accuracy: 1.0000 - val_loss: 0.6023 - val_accuracy: 0.8000\n",
      "Epoch 65/100\n",
      "60/60 [==============================] - 0s 796us/sample - loss: 0.0630 - accuracy: 1.0000 - val_loss: 0.6011 - val_accuracy: 0.8000\n",
      "Epoch 66/100\n",
      "60/60 [==============================] - 0s 830us/sample - loss: 0.0990 - accuracy: 1.0000 - val_loss: 0.6020 - val_accuracy: 0.8000\n",
      "Epoch 67/100\n",
      "60/60 [==============================] - 0s 831us/sample - loss: 0.0692 - accuracy: 1.0000 - val_loss: 0.8658 - val_accuracy: 0.7333\n",
      "Epoch 68/100\n",
      "60/60 [==============================] - 0s 805us/sample - loss: 0.0467 - accuracy: 1.0000 - val_loss: 0.8495 - val_accuracy: 0.7333\n",
      "Epoch 69/100\n",
      "60/60 [==============================] - 0s 802us/sample - loss: 0.0698 - accuracy: 1.0000 - val_loss: 0.8668 - val_accuracy: 0.7333\n",
      "Epoch 70/100\n",
      "60/60 [==============================] - 0s 814us/sample - loss: 0.0578 - accuracy: 1.0000 - val_loss: 0.9019 - val_accuracy: 0.7333\n",
      "Epoch 71/100\n",
      "60/60 [==============================] - 0s 788us/sample - loss: 0.0387 - accuracy: 1.0000 - val_loss: 0.9949 - val_accuracy: 0.7333\n",
      "Epoch 72/100\n",
      "60/60 [==============================] - 0s 772us/sample - loss: 0.0479 - accuracy: 1.0000 - val_loss: 1.0497 - val_accuracy: 0.7333\n",
      "Epoch 73/100\n",
      "60/60 [==============================] - 0s 782us/sample - loss: 0.0739 - accuracy: 1.0000 - val_loss: 1.0402 - val_accuracy: 0.7333\n",
      "Epoch 74/100\n",
      "60/60 [==============================] - 0s 1ms/sample - loss: 0.0640 - accuracy: 1.0000 - val_loss: 1.0082 - val_accuracy: 0.7333\n",
      "Epoch 75/100\n",
      "60/60 [==============================] - 0s 950us/sample - loss: 0.0443 - accuracy: 1.0000 - val_loss: 1.0030 - val_accuracy: 0.7333\n",
      "Epoch 76/100\n",
      "60/60 [==============================] - 0s 909us/sample - loss: 0.0377 - accuracy: 1.0000 - val_loss: 1.0511 - val_accuracy: 0.7333\n",
      "Epoch 77/100\n",
      "60/60 [==============================] - 0s 844us/sample - loss: 0.0693 - accuracy: 1.0000 - val_loss: 1.0668 - val_accuracy: 0.7333\n",
      "Epoch 78/100\n",
      "60/60 [==============================] - 0s 795us/sample - loss: 0.0573 - accuracy: 1.0000 - val_loss: 1.0873 - val_accuracy: 0.7333\n",
      "Epoch 79/100\n",
      "60/60 [==============================] - 0s 800us/sample - loss: 0.0517 - accuracy: 1.0000 - val_loss: 1.0662 - val_accuracy: 0.7333\n",
      "Epoch 80/100\n",
      "60/60 [==============================] - 0s 844us/sample - loss: 0.0373 - accuracy: 1.0000 - val_loss: 1.0627 - val_accuracy: 0.7333\n",
      "Epoch 81/100\n",
      "60/60 [==============================] - 0s 790us/sample - loss: 0.0769 - accuracy: 1.0000 - val_loss: 1.0660 - val_accuracy: 0.7333\n",
      "Epoch 82/100\n",
      "60/60 [==============================] - 0s 800us/sample - loss: 0.0492 - accuracy: 1.0000 - val_loss: 1.0692 - val_accuracy: 0.7333\n",
      "Epoch 83/100\n",
      "60/60 [==============================] - 0s 775us/sample - loss: 0.0555 - accuracy: 1.0000 - val_loss: 1.0767 - val_accuracy: 0.7333\n",
      "Epoch 84/100\n",
      "60/60 [==============================] - 0s 792us/sample - loss: 0.0576 - accuracy: 1.0000 - val_loss: 1.0987 - val_accuracy: 0.7333\n",
      "Epoch 85/100\n",
      "60/60 [==============================] - 0s 778us/sample - loss: 0.1123 - accuracy: 0.9833 - val_loss: 1.1035 - val_accuracy: 0.7333\n",
      "Epoch 86/100\n",
      "60/60 [==============================] - 0s 840us/sample - loss: 0.0518 - accuracy: 1.0000 - val_loss: 1.0997 - val_accuracy: 0.7333\n",
      "Epoch 87/100\n",
      "60/60 [==============================] - 0s 789us/sample - loss: 0.0544 - accuracy: 1.0000 - val_loss: 1.0408 - val_accuracy: 0.7333\n",
      "Epoch 88/100\n",
      "60/60 [==============================] - 0s 809us/sample - loss: 0.0607 - accuracy: 1.0000 - val_loss: 0.9270 - val_accuracy: 0.7333\n",
      "Epoch 89/100\n",
      "60/60 [==============================] - 0s 769us/sample - loss: 0.0707 - accuracy: 1.0000 - val_loss: 0.8433 - val_accuracy: 0.7333\n",
      "Epoch 90/100\n",
      "60/60 [==============================] - 0s 757us/sample - loss: 0.0474 - accuracy: 1.0000 - val_loss: 0.7816 - val_accuracy: 0.7333\n",
      "Epoch 91/100\n",
      "60/60 [==============================] - 0s 795us/sample - loss: 0.0581 - accuracy: 1.0000 - val_loss: 0.6396 - val_accuracy: 0.7333\n",
      "Epoch 92/100\n",
      "60/60 [==============================] - 0s 789us/sample - loss: 0.0639 - accuracy: 1.0000 - val_loss: 0.6218 - val_accuracy: 0.8000\n",
      "Epoch 93/100\n",
      "60/60 [==============================] - 0s 812us/sample - loss: 0.0532 - accuracy: 1.0000 - val_loss: 0.6102 - val_accuracy: 0.8000\n",
      "Epoch 94/100\n",
      "60/60 [==============================] - 0s 843us/sample - loss: 0.0403 - accuracy: 1.0000 - val_loss: 0.6176 - val_accuracy: 0.8000\n",
      "Epoch 95/100\n",
      "60/60 [==============================] - 0s 779us/sample - loss: 0.0342 - accuracy: 1.0000 - val_loss: 0.7486 - val_accuracy: 0.8000\n",
      "Epoch 96/100\n",
      "60/60 [==============================] - 0s 799us/sample - loss: 0.0500 - accuracy: 1.0000 - val_loss: 0.4791 - val_accuracy: 0.8667\n",
      "Epoch 97/100\n",
      "60/60 [==============================] - 0s 820us/sample - loss: 0.0365 - accuracy: 1.0000 - val_loss: 0.5182 - val_accuracy: 0.8000\n",
      "Epoch 98/100\n",
      "60/60 [==============================] - 0s 800us/sample - loss: 0.0380 - accuracy: 1.0000 - val_loss: 0.5879 - val_accuracy: 0.8000\n",
      "Epoch 99/100\n",
      "60/60 [==============================] - 0s 808us/sample - loss: 0.0388 - accuracy: 1.0000 - val_loss: 0.7177 - val_accuracy: 0.7333\n",
      "Epoch 100/100\n",
      "60/60 [==============================] - 0s 814us/sample - loss: 0.0421 - accuracy: 1.0000 - val_loss: 0.6947 - val_accuracy: 0.7333\n",
      "25/25 [==============================] - 0s 399us/sample - loss: 1.1270 - accuracy: 0.7600\n",
      "Accuracy on the test set is 0.7599999904632568\n"
     ]
    }
   ],
   "source": [
    "optimizer = tf.keras.optimizers.Adam(learning_rate=0.0001)\n",
    "model.compile(optimizer=optimizer,\n",
    "              loss = \"sparse_categorical_crossentropy\",\n",
    "              metrics = ['accuracy'])\n",
    "hist = model.fit(X_train, y_train,\n",
    "          validation_data=(X_validation,y_validation),\n",
    "          batch_size=16,\n",
    "          epochs=100)\n",
    "\n",
    "test_error, test_accuracy = model.evaluate(X_test, y_test, verbose=1)\n",
    "print(\"Accuracy on the test set is {}\".format(test_accuracy))"
   ]
  },
  {
   "cell_type": "code",
   "execution_count": 41,
   "metadata": {},
   "outputs": [
    {
     "data": {
      "image/png": "[encoded data removed]",
      "text/plain": [
       "<Figure size 1080x288 with 1 Axes>"
      ]
     },
     "metadata": {
      "needs_background": "light"
     },
     "output_type": "display_data"
    }
   ],
   "source": [
    "import matplotlib.pyplot as plt\n",
    "%matplotlib inline\n",
    "plt.figure(figsize=(15,4))\n",
    "plt.plot(hist.history['accuracy'])\n",
    "plt.plot(hist.history['val_accuracy'])\n",
    "plt.show()"
   ]
  },
  {
   "cell_type": "code",
   "execution_count": 42,
   "metadata": {},
   "outputs": [
    {
     "data": {
      "image/png": "[encoded data removed]",
      "text/plain": [
       "<Figure size 1080x288 with 1 Axes>"
      ]
     },
     "metadata": {
      "needs_background": "light"
     },
     "output_type": "display_data"
    }
   ],
   "source": [
    "import matplotlib.pyplot as plt\n",
    "%matplotlib inline\n",
    "plt.figure(figsize=(15,4))\n",
    "plt.plot(hist.history['loss'])\n",
    "plt.plot(hist.history['val_loss'])\n",
    "plt.show()"
   ]
  }
 ],
 "metadata": {
  "kernelspec": {
   "display_name": "Python 3",
   "language": "python",
   "name": "python3"
  },
  "language_info": {
   "codemirror_mode": {
    "name": "ipython",
    "version": 3
   },
   "file_extension": ".py",
   "mimetype": "text/x-python",
   "name": "python",
   "nbconvert_exporter": "python",
   "pygments_lexer": "ipython3",
   "version": "3.7.9"
  }
 },
 "nbformat": 4,
 "nbformat_minor": 4
}
